{
 "cells": [
  {
   "cell_type": "code",
   "execution_count": 1,
   "id": "fc2697fd",
   "metadata": {},
   "outputs": [],
   "source": [
    "from zipfile import ZipFile"
   ]
  },
  {
   "cell_type": "code",
   "execution_count": 2,
   "id": "ef1a6fc9",
   "metadata": {},
   "outputs": [],
   "source": [
    "import os"
   ]
  },
  {
   "cell_type": "code",
   "execution_count": 3,
   "id": "62156cb8",
   "metadata": {},
   "outputs": [
    {
     "name": "stdout",
     "output_type": "stream",
     "text": [
      "historical_data_2013Q3.zip\n",
      "historical_data_2016Q3.zip\n",
      "historical_data_2016Q4.zip\n",
      "historical_data_2017Q1.zip\n",
      "historical_data_2017Q2.zip\n",
      "historical_data_2017Q3.zip\n"
     ]
    }
   ],
   "source": [
    "list_of_files = sorted(os.listdir(\"./data\"))\n",
    "for file in list_of_files:\n",
    "    if file.endswith(\".zip\"):\n",
    "        print(file)\n",
    "        if f\"{file[:-3]}txt\" not in list_of_files:\n",
    "            zObj = ZipFile(f\"./data/{file}\")\n",
    "            zObj.extractall(path=\"./data\")\n",
    "            zObj.close()\n",
    "        os.remove(f\"./data/{file}\")"
   ]
  },
  {
   "cell_type": "raw",
   "id": "f47d9d42",
   "metadata": {},
   "source": []
  }
 ],
 "metadata": {
  "kernelspec": {
   "display_name": "Python [conda env:Credit_Risk_Modeling]",
   "language": "python",
   "name": "conda-env-Credit_Risk_Modeling-py"
  },
  "language_info": {
   "codemirror_mode": {
    "name": "ipython",
    "version": 3
   },
   "file_extension": ".py",
   "mimetype": "text/x-python",
   "name": "python",
   "nbconvert_exporter": "python",
   "pygments_lexer": "ipython3",
   "version": "3.7.15"
  }
 },
 "nbformat": 4,
 "nbformat_minor": 5
}
