{
 "cells": [
  {
   "cell_type": "code",
   "execution_count": 1,
   "id": "fc2697fd",
   "metadata": {},
   "outputs": [],
   "source": [
    "from zipfile import ZipFile\n",
    "import os\n",
    "from pprint import pprint"
   ]
  },
  {
   "cell_type": "code",
   "execution_count": 2,
   "id": "3b1db724-0688-44d9-ab6d-f22dfae7de4f",
   "metadata": {},
   "outputs": [],
   "source": [
    "PROJECT_PATH = \"E:/Projects/PyCharmProjects/credit_risk_analysis_adhoc\""
   ]
  },
  {
   "cell_type": "code",
   "execution_count": 3,
   "id": "463478ad-4835-400c-9e7b-34c2532451ed",
   "metadata": {},
   "outputs": [],
   "source": [
    "FREDDIE_MAC_DATA_PATH = f\"{PROJECT_PATH}/data/raw/freddie_mac\""
   ]
  },
  {
   "cell_type": "code",
   "execution_count": 4,
   "id": "62156cb8",
   "metadata": {},
   "outputs": [
    {
     "name": "stdout",
     "output_type": "stream",
     "text": [
      "['historical_data_2017Q4.zip', 'origination_data', 'performance_data']\n",
      "['historical_data_1999Q1.txt',\n",
      " 'historical_data_1999Q2.txt',\n",
      " 'historical_data_1999Q3.txt',\n",
      " 'historical_data_1999Q4.txt',\n",
      " 'historical_data_2000Q1.txt',\n",
      " 'historical_data_2000Q2.txt',\n",
      " 'historical_data_2000Q3.txt',\n",
      " 'historical_data_2000Q4.txt',\n",
      " 'historical_data_2001Q1.txt',\n",
      " 'historical_data_2001Q2.txt',\n",
      " 'historical_data_2001Q3.txt',\n",
      " 'historical_data_2001Q4.txt',\n",
      " 'historical_data_2002Q1.txt',\n",
      " 'historical_data_2002Q2.txt',\n",
      " 'historical_data_2002Q3.txt',\n",
      " 'historical_data_2002Q4.txt',\n",
      " 'historical_data_2003Q1.txt',\n",
      " 'historical_data_2003Q2.txt',\n",
      " 'historical_data_2003Q3.txt',\n",
      " 'historical_data_2003Q4.txt',\n",
      " 'historical_data_2004Q1.txt',\n",
      " 'historical_data_2004Q2.txt',\n",
      " 'historical_data_2004Q3.txt',\n",
      " 'historical_data_2004Q4.txt',\n",
      " 'historical_data_2005Q1.txt',\n",
      " 'historical_data_2005Q2.txt',\n",
      " 'historical_data_2005Q3.txt',\n",
      " 'historical_data_2005Q4.txt',\n",
      " 'historical_data_2006Q1.txt',\n",
      " 'historical_data_2006Q2.txt',\n",
      " 'historical_data_2006Q3.txt',\n",
      " 'historical_data_2006Q4.txt',\n",
      " 'historical_data_2007Q1.txt',\n",
      " 'historical_data_2007Q2.txt',\n",
      " 'historical_data_2007Q3.txt',\n",
      " 'historical_data_2007Q4.txt',\n",
      " 'historical_data_2008Q1.txt',\n",
      " 'historical_data_2008Q2.txt',\n",
      " 'historical_data_2008Q3.txt',\n",
      " 'historical_data_2008Q4.txt',\n",
      " 'historical_data_2009Q1.txt',\n",
      " 'historical_data_2009Q2.txt',\n",
      " 'historical_data_2009Q3.txt',\n",
      " 'historical_data_2009Q4.txt',\n",
      " 'historical_data_2010Q1.txt',\n",
      " 'historical_data_2010Q2.txt',\n",
      " 'historical_data_2010Q3.txt',\n",
      " 'historical_data_2010Q4.txt',\n",
      " 'historical_data_2011Q1.txt',\n",
      " 'historical_data_2011Q2.txt',\n",
      " 'historical_data_2011Q3.txt',\n",
      " 'historical_data_2011Q4.txt',\n",
      " 'historical_data_2012Q1.txt',\n",
      " 'historical_data_2012Q2.txt',\n",
      " 'historical_data_2012Q3.txt',\n",
      " 'historical_data_2012Q4.txt',\n",
      " 'historical_data_2013Q1.txt',\n",
      " 'historical_data_2013Q2.txt',\n",
      " 'historical_data_2013Q3.txt',\n",
      " 'historical_data_2013Q4.txt',\n",
      " 'historical_data_2014Q1.txt',\n",
      " 'historical_data_2014Q2.txt',\n",
      " 'historical_data_2014Q3.txt',\n",
      " 'historical_data_2014Q4.txt',\n",
      " 'historical_data_2015Q1.txt',\n",
      " 'historical_data_2015Q2.txt',\n",
      " 'historical_data_2015Q3.txt',\n",
      " 'historical_data_2015Q4.txt',\n",
      " 'historical_data_2016Q1.txt',\n",
      " 'historical_data_2016Q2.txt',\n",
      " 'historical_data_2016Q3.txt',\n",
      " 'historical_data_2016Q4.txt',\n",
      " 'historical_data_2017Q1.txt',\n",
      " 'historical_data_2017Q2.txt',\n",
      " 'historical_data_2017Q3.txt',\n",
      " 'historical_data_2017Q4.txt']\n",
      "historical_data_2017Q4.zip\n",
      "historical_data_2017Q4.txt E:/Projects/PyCharmProjects/credit_risk_analysis_adhoc/data/raw/freddie_mac/origination_data/historical_data_2017Q4.txt\n",
      "historical_data_time_2017Q4.txt E:/Projects/PyCharmProjects/credit_risk_analysis_adhoc/data/raw/freddie_mac/performance_data/historical_data_time_2017Q4.txt\n"
     ]
    }
   ],
   "source": [
    "list_of_zipfiles = sorted(os.listdir(FREDDIE_MAC_DATA_PATH))\n",
    "list_of_origination_files = sorted(os.listdir(f\"{FREDDIE_MAC_DATA_PATH}/origination_data\"))\n",
    "pprint(list_of_zipfiles)\n",
    "pprint(list_of_origination_files)\n",
    "\n",
    "for zipfile in list_of_zipfiles:\n",
    "    if zipfile.endswith(\".zip\"):\n",
    "        print(zipfile)\n",
    "        origination_filename = f\"{zipfile[:-3]}txt\" \n",
    "        origination_filepath = f\"{FREDDIE_MAC_DATA_PATH}/origination_data/{origination_filename}\"\n",
    "        print(origination_filename, origination_filepath)\n",
    "        \n",
    "        performance_filename = origination_filename.replace(\"historical_data\", \"historical_data_time\")\n",
    "        performance_filepath = f\"{FREDDIE_MAC_DATA_PATH}/performance_data/{performance_filename}\"\n",
    "        print(performance_filename, performance_filepath)\n",
    "        \n",
    "        if origination_filename not in list_of_origination_files:\n",
    "            zObj = ZipFile(f\"{FREDDIE_MAC_DATA_PATH}/{zipfile}\")\n",
    "            zObj.extract(origination_filename, path=origination_filepath)\n",
    "            zObj.extract(performance_filename, path=performance_filepath)\n",
    "            zObj.close()\n",
    "        os.remove(f\"{FREDDIE_MAC_DATA_PATH}/{zipfile}\")"
   ]
  },
  {
   "cell_type": "raw",
   "id": "f47d9d42",
   "metadata": {},
   "source": []
  }
 ],
 "metadata": {
  "kernelspec": {
   "display_name": "Python [conda env:Credit_Risk_Modeling]",
   "language": "python",
   "name": "conda-env-Credit_Risk_Modeling-py"
  },
  "language_info": {
   "codemirror_mode": {
    "name": "ipython",
    "version": 3
   },
   "file_extension": ".py",
   "mimetype": "text/x-python",
   "name": "python",
   "nbconvert_exporter": "python",
   "pygments_lexer": "ipython3",
   "version": "3.7.15"
  }
 },
 "nbformat": 4,
 "nbformat_minor": 5
}
