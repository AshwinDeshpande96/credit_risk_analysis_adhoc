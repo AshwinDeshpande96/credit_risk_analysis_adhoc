{
 "cells": [
  {
   "cell_type": "code",
   "execution_count": 1,
   "id": "1e6bbfeb-b0f3-499e-b67e-066b75e24175",
   "metadata": {},
   "outputs": [],
   "source": [
    "## Python Core\n",
    "import datetime\n",
    "import re\n",
    "import math\n",
    "from IPython.display import Markdown as md\n",
    "\n",
    "## Data manipulation\n",
    "import pandas as pd\n",
    "import numpy as np\n",
    "\n",
    "\n",
    "## Data Vizualization\n",
    "from pprint import pprint\n",
    "from matplotlib import pyplot as plt\n",
    "import seaborn as sns\n",
    "import matplotlib.dates as mdates\n",
    "import matplotlib as mpl\n",
    "\n",
    "\n"
   ]
  },
  {
   "cell_type": "code",
   "execution_count": 2,
   "id": "96bb4d08-5d56-4176-a843-527ddec772ac",
   "metadata": {},
   "outputs": [],
   "source": [
    "pd.set_option('display.max_rows', None)\n",
    "pd.set_option('display.max_columns', None)\n",
    "pd.set_option('display.width', 2000)\n",
    "pd.set_option('display.float_format', '{:,.2f}'.format)\n",
    "pd.set_option('display.max_colwidth', None)"
   ]
  },
  {
   "cell_type": "code",
   "execution_count": 3,
   "id": "feb97a75-9c41-4585-994c-f9200fd66997",
   "metadata": {},
   "outputs": [],
   "source": [
    "def clean_text(text):\n",
    "    text = text.lower()\n",
    "    text = re.sub(r\"\\(.*\\)\", \"\", text)\n",
    "    text = re.sub(r\"[^a-z]\", \" \", text)\n",
    "    text = text.strip()\n",
    "    text = re.sub(r\"\\s+\", \"_\", text)\n",
    "    return text"
   ]
  },
  {
   "cell_type": "markdown",
   "id": "390319d6-f1fc-4ac4-a89b-b45144c87a9a",
   "metadata": {},
   "source": [
    "# Select Dates"
   ]
  },
  {
   "cell_type": "code",
   "execution_count": null,
   "id": "08d7e36b-9024-4222-9b47-91b1ae4c41e4",
   "metadata": {},
   "outputs": [],
   "source": [
    "quarters = {\n",
    "    2014: range(1, 5),\n",
    "    # 2015: range(1, 5),\n",
    "    # 2016: range(1, 5),\n",
    "    # 2017: range(1, 5),\n",
    "    # 2018: range(1, 5),\n",
    "    # 2019: range(1, 3),\n",
    "}"
   ]
  },
  {
   "cell_type": "markdown",
   "id": "854152cb-0bac-451b-8d06-2bee0dab3b65",
   "metadata": {},
   "source": [
    "# Reading loan origination data"
   ]
  },
  {
   "cell_type": "code",
   "execution_count": 4,
   "id": "1c089504-dce5-40ef-837d-dfe966d095db",
   "metadata": {},
   "outputs": [],
   "source": [
    "loan_characteristic_columns_original_format = \"\"\"Credit Score\n",
    "First Payment Date\n",
    "First Time Homebuyer Flag\n",
    "Maturity Date\n",
    "Metropolitan Statistical Area (MSA) Or Metropolitan Division\n",
    "Mortgage Insurance Percentage (MI %)\n",
    "Number of Units\n",
    "Occupancy Status\n",
    "Original Combined Loan-to-Value (CLTV)\n",
    "Original Debt-to-Income (DTI) Ratio\n",
    "Original UPB\n",
    "Original Loan-to-Value (LTV)\n",
    "Original Interest Rate\n",
    "Channel\n",
    "Prepayment Penalty Mortgage (PPM) Flag\n",
    "Amortization Type (Formerly Product Type)\n",
    "Property State\n",
    "Property Type\n",
    "Postal Code\n",
    "Loan Sequence Number\n",
    "Loan Purpose\n",
    "Original Loan Term\n",
    "Number of Borrowers\n",
    "Seller Name\n",
    "Servicer Name\n",
    "Super Conforming Flag\n",
    "Pre-HARP Loan Sequence Number\n",
    "Program Indicator\n",
    "HARP Indicator\n",
    "Property Valuation Method\n",
    "Interest Only (I/O) Indicator\"\"\"\n",
    "loan_characteristic_columns_original_format = loan_characteristic_columns_original_format.split(\"\\n\")\n",
    "loan_characteristic_columns = [clean_text(loan_char_column) for loan_char_column in loan_characteristic_columns_original_format]"
   ]
  },
  {
   "cell_type": "markdown",
   "id": "2aba923c-7671-444a-a17f-40985e794d14",
   "metadata": {
    "tags": []
   },
   "source": [
    "## Selecting columns to read"
   ]
  },
  {
   "cell_type": "code",
   "execution_count": 5,
   "id": "3ea7cbc3-6de1-493c-a776-432583110279",
   "metadata": {},
   "outputs": [
    {
     "name": "stdout",
     "output_type": "stream",
     "text": [
      "[0, 4, 8, 9, 11, 16, 18, 19]\n",
      "['credit_score', 'metropolitan_statistical_area_or_metropolitan_division', 'original_combined_loan_to_value', 'original_debt_to_income_ratio', 'original_loan_to_value', 'property_state', 'postal_code', 'loan_sequence_number']\n"
     ]
    }
   ],
   "source": [
    "selected_loan_characteristic_columns = ['credit_score', \n",
    "                                        'metropolitan_statistical_area_or_metropolitan_division', \n",
    "                                        'original_combined_loan_to_value', \n",
    "                                        'original_debt_to_income_ratio', \n",
    "                                        'original_loan_to_value', \n",
    "                                        'property_state', \n",
    "                                        'postal_code', \n",
    "                                        'loan_sequence_number']\n",
    "selected_loan_characteristic_column_indices = [loan_characteristic_columns.index(selected_column) for selected_column in selected_loan_characteristic_columns]\n",
    "print(selected_loan_characteristic_column_indices)\n",
    "print(selected_loan_characteristic_columns)"
   ]
  },
  {
   "cell_type": "code",
   "execution_count": 6,
   "id": "b9d1d815-2a66-4c39-8804-1e756e36417a",
   "metadata": {},
   "outputs": [
    {
     "name": "stdout",
     "output_type": "stream",
     "text": [
      "Origination Files\n",
      "['./data/historical_data_2014Q1.txt',\n",
      " './data/historical_data_2014Q2.txt',\n",
      " './data/historical_data_2014Q3.txt',\n",
      " './data/historical_data_2014Q4.txt']\n"
     ]
    }
   ],
   "source": [
    "loan_origination_files = [f\"./data/historical_data_{year}Q{q}.txt\" for year in quarters for q in quarters[year]]\n",
    "print(\"Origination Files\")\n",
    "pprint(loan_origination_files)"
   ]
  },
  {
   "cell_type": "markdown",
   "id": "5bacd2d3-c838-469f-b9ac-9f20009477fa",
   "metadata": {},
   "source": [
    "## Read origination CSV "
   ]
  },
  {
   "cell_type": "code",
   "execution_count": 7,
   "id": "7b37059a-7814-4d69-a36c-dabeb761e0c7",
   "metadata": {},
   "outputs": [],
   "source": [
    "loan_origination_df = []\n",
    "for loan_origin_filename in loan_origination_files:\n",
    "    loan_origination_quarter_df = pd.read_csv(loan_origin_filename, \n",
    "                                              delimiter=\"|\", \n",
    "                                              usecols=selected_loan_characteristic_column_indices, \n",
    "                                              header=None)\n",
    "    loan_origination_df.append(loan_origination_quarter_df)\n",
    "    \n",
    "loan_origination_df = pd.concat(loan_origination_df, ignore_index=True)\n",
    "loan_origination_df.columns = selected_loan_characteristic_columns\n",
    "\n",
    "loan_origination_df[\"origination_quarter\"] = [loan_sequence_number[1:5] for loan_sequence_number in loan_origination_df[\"loan_sequence_number\"].to_numpy()]"
   ]
  },
  {
   "cell_type": "code",
   "execution_count": 15,
   "id": "a66c10f0-74f4-47be-94a5-97ed40ea267b",
   "metadata": {},
   "outputs": [
    {
     "name": "stdout",
     "output_type": "stream",
     "text": [
      "(1142388, 9)\n"
     ]
    },
    {
     "data": {
      "text/html": [
       "<div>\n",
       "<style scoped>\n",
       "    .dataframe tbody tr th:only-of-type {\n",
       "        vertical-align: middle;\n",
       "    }\n",
       "\n",
       "    .dataframe tbody tr th {\n",
       "        vertical-align: top;\n",
       "    }\n",
       "\n",
       "    .dataframe thead th {\n",
       "        text-align: right;\n",
       "    }\n",
       "</style>\n",
       "<table border=\"1\" class=\"dataframe\">\n",
       "  <thead>\n",
       "    <tr style=\"text-align: right;\">\n",
       "      <th></th>\n",
       "      <th>credit_score</th>\n",
       "      <th>metropolitan_statistical_area_or_metropolitan_division</th>\n",
       "      <th>original_combined_loan_to_value</th>\n",
       "      <th>original_debt_to_income_ratio</th>\n",
       "      <th>original_loan_to_value</th>\n",
       "      <th>property_state</th>\n",
       "      <th>postal_code</th>\n",
       "      <th>loan_sequence_number</th>\n",
       "      <th>origination_quarter</th>\n",
       "    </tr>\n",
       "  </thead>\n",
       "  <tbody>\n",
       "    <tr>\n",
       "      <th>0</th>\n",
       "      <td>629</td>\n",
       "      <td>17,300.00</td>\n",
       "      <td>77</td>\n",
       "      <td>45</td>\n",
       "      <td>71</td>\n",
       "      <td>KY</td>\n",
       "      <td>42200</td>\n",
       "      <td>F14Q10000001</td>\n",
       "      <td>14Q1</td>\n",
       "    </tr>\n",
       "    <tr>\n",
       "      <th>1</th>\n",
       "      <td>770</td>\n",
       "      <td>NaN</td>\n",
       "      <td>89</td>\n",
       "      <td>30</td>\n",
       "      <td>89</td>\n",
       "      <td>NY</td>\n",
       "      <td>13600</td>\n",
       "      <td>F14Q10000002</td>\n",
       "      <td>14Q1</td>\n",
       "    </tr>\n",
       "    <tr>\n",
       "      <th>2</th>\n",
       "      <td>674</td>\n",
       "      <td>NaN</td>\n",
       "      <td>89</td>\n",
       "      <td>999</td>\n",
       "      <td>76</td>\n",
       "      <td>MI</td>\n",
       "      <td>49200</td>\n",
       "      <td>F14Q10000003</td>\n",
       "      <td>14Q1</td>\n",
       "    </tr>\n",
       "    <tr>\n",
       "      <th>3</th>\n",
       "      <td>717</td>\n",
       "      <td>39,300.00</td>\n",
       "      <td>77</td>\n",
       "      <td>41</td>\n",
       "      <td>77</td>\n",
       "      <td>RI</td>\n",
       "      <td>2800</td>\n",
       "      <td>F14Q10000004</td>\n",
       "      <td>14Q1</td>\n",
       "    </tr>\n",
       "    <tr>\n",
       "      <th>4</th>\n",
       "      <td>813</td>\n",
       "      <td>19,780.00</td>\n",
       "      <td>95</td>\n",
       "      <td>32</td>\n",
       "      <td>95</td>\n",
       "      <td>IA</td>\n",
       "      <td>50300</td>\n",
       "      <td>F14Q10000005</td>\n",
       "      <td>14Q1</td>\n",
       "    </tr>\n",
       "  </tbody>\n",
       "</table>\n",
       "</div>"
      ],
      "text/plain": [
       "   credit_score  metropolitan_statistical_area_or_metropolitan_division  original_combined_loan_to_value  original_debt_to_income_ratio  original_loan_to_value property_state  postal_code loan_sequence_number origination_quarter\n",
       "0           629                                               17,300.00                               77                             45                      71             KY        42200         F14Q10000001                14Q1\n",
       "1           770                                                     NaN                               89                             30                      89             NY        13600         F14Q10000002                14Q1\n",
       "2           674                                                     NaN                               89                            999                      76             MI        49200         F14Q10000003                14Q1\n",
       "3           717                                               39,300.00                               77                             41                      77             RI         2800         F14Q10000004                14Q1\n",
       "4           813                                               19,780.00                               95                             32                      95             IA        50300         F14Q10000005                14Q1"
      ]
     },
     "execution_count": 15,
     "metadata": {},
     "output_type": "execute_result"
    }
   ],
   "source": [
    "print(loan_origination_df.shape)\n",
    "loan_origination_df.head()"
   ]
  },
  {
   "cell_type": "markdown",
   "id": "ba4d8508-8636-4242-9856-0210599e5816",
   "metadata": {},
   "source": [
    "# Read loan performance data"
   ]
  },
  {
   "cell_type": "code",
   "execution_count": 9,
   "id": "1362e9b5-6389-4d58-9a49-76d775a68b08",
   "metadata": {},
   "outputs": [],
   "source": [
    "loan_perf_columns_original_format = \"\"\"Loan Sequence Number\n",
    "Monthly Reporting Period\n",
    "Current Actual UPB\n",
    "Current Loan Delinquency Status\n",
    "Loan Age\n",
    "Remaining Months to Legal Maturity\n",
    "Defect Settlement Date\n",
    "Modification Flag\n",
    "Zero Balance Code\n",
    "Zero Balance Effective Date\n",
    "Current Interest Rate\n",
    "Current Deferred UPB\n",
    "Due Date of Last Paid Installment (DDLPI)\n",
    "MI Recoveries\n",
    "Net Sales Proceeds\n",
    "Non MI Recoveries\n",
    "Expenses\n",
    "Legal Costs\n",
    "Maintenance and Preservation Costs\n",
    "Taxes and Insurance\n",
    "Miscellaneous Expenses\n",
    "Actual Loss Calculation\n",
    "Modification Cost\n",
    "Step Modification Flag\n",
    "Deferred Payment Plan\n",
    "Estimated Loan-to-Value (ELTV)\n",
    "Zero Balance Removal UPB\n",
    "Delinquent Accrued Interest\n",
    "Delinquency Due to Disaster\n",
    "Borrower Assistance Status Code\n",
    "Current Month Modification Cost\n",
    "Interest Bearing UPB\"\"\"\n",
    "loan_perf_columns_original_format = loan_perf_columns_original_format.split(\"\\n\")\n",
    "loan_performance_columns = [clean_text(loan_performance_column) for loan_performance_column in loan_perf_columns_original_format]"
   ]
  },
  {
   "cell_type": "markdown",
   "id": "a5259b0b-2daf-43e5-bc61-b592bdf85765",
   "metadata": {
    "tags": []
   },
   "source": [
    "## Selecting columns to read"
   ]
  },
  {
   "cell_type": "code",
   "execution_count": 10,
   "id": "02632ff7-396d-4c1e-b943-b6d4d656fab3",
   "metadata": {},
   "outputs": [
    {
     "name": "stdout",
     "output_type": "stream",
     "text": [
      "[0, 1, 2, 3, 4, 5, 9, 14, 21, 25, 26, 28]\n",
      "['loan_sequence_number',\n",
      " 'monthly_reporting_period',\n",
      " 'current_actual_upb',\n",
      " 'current_loan_delinquency_status',\n",
      " 'loan_age',\n",
      " 'remaining_months_to_legal_maturity',\n",
      " 'zero_balance_effective_date',\n",
      " 'net_sales_proceeds',\n",
      " 'actual_loss_calculation',\n",
      " 'estimated_loan_to_value',\n",
      " 'zero_balance_removal_upb',\n",
      " 'delinquency_due_to_disaster']\n"
     ]
    }
   ],
   "source": [
    "selected_loan_performance_columns = ['loan_sequence_number',\n",
    "                                     'monthly_reporting_period',\n",
    "                                     'current_actual_upb',\n",
    "                                     'current_loan_delinquency_status',\n",
    "                                     'loan_age',\n",
    "                                     'remaining_months_to_legal_maturity',\n",
    "                                     'zero_balance_effective_date',\n",
    "                                     'net_sales_proceeds',\n",
    "                                     'actual_loss_calculation',\n",
    "                                     'estimated_loan_to_value',\n",
    "                                     'zero_balance_removal_upb',\n",
    "                                     'delinquency_due_to_disaster']\n",
    "\n",
    "selected_loan_performance_column_indices = [loan_performance_columns.index(selected_column) for selected_column in selected_loan_performance_columns]\n",
    "print(selected_loan_performance_column_indices)\n",
    "pprint(selected_loan_performance_columns)"
   ]
  },
  {
   "cell_type": "code",
   "execution_count": 11,
   "id": "e5c8c824-d974-4a0c-a007-6ce55cc5352e",
   "metadata": {},
   "outputs": [
    {
     "name": "stdout",
     "output_type": "stream",
     "text": [
      "Performance Files\n",
      "['./data/historical_data_time_2014Q1.txt',\n",
      " './data/historical_data_time_2014Q2.txt',\n",
      " './data/historical_data_time_2014Q3.txt',\n",
      " './data/historical_data_time_2014Q4.txt']\n"
     ]
    }
   ],
   "source": [
    "loan_performance_files = [f\"./data/historical_data_time_{year}Q{q}.txt\" for year in quarters for q in quarters[year]]\n",
    "\n",
    "print(\"Performance Files\")\n",
    "pprint(loan_performance_files)"
   ]
  },
  {
   "cell_type": "markdown",
   "id": "3665d776-ed87-4282-bfb1-95412a8f434d",
   "metadata": {},
   "source": [
    "## Read performance CSV"
   ]
  },
  {
   "cell_type": "code",
   "execution_count": 12,
   "id": "37f0d2ba-03e1-40e8-860c-c2402d6f4f15",
   "metadata": {},
   "outputs": [
    {
     "name": "stderr",
     "output_type": "stream",
     "text": [
      "C:\\Users\\ashwi\\anaconda3\\envs\\Credit_Risk_Modeling\\lib\\site-packages\\IPython\\core\\interactiveshell.py:3457: DtypeWarning: Columns (3,28) have mixed types.Specify dtype option on import or set low_memory=False.\n",
      "  exec(code_obj, self.user_global_ns, self.user_ns)\n",
      "C:\\Users\\ashwi\\anaconda3\\envs\\Credit_Risk_Modeling\\lib\\site-packages\\IPython\\core\\interactiveshell.py:3457: DtypeWarning: Columns (3) have mixed types.Specify dtype option on import or set low_memory=False.\n",
      "  exec(code_obj, self.user_global_ns, self.user_ns)\n"
     ]
    }
   ],
   "source": [
    "loan_performance_df = []\n",
    "for loan_performance_filename in loan_performance_files:\n",
    "    loan_performance_quarter_df = pd.read_csv(loan_performance_filename, \n",
    "                                              delimiter=\"|\", \n",
    "                                              usecols=selected_loan_performance_column_indices,\n",
    "                                              header=None)\n",
    "    loan_performance_df.append(loan_performance_quarter_df)\n",
    "    \n",
    "loan_performance_df = pd.concat(loan_performance_df, ignore_index=True)\n",
    "loan_performance_df.columns = selected_loan_performance_columns"
   ]
  },
  {
   "cell_type": "code",
   "execution_count": 14,
   "id": "e73fbcb9-52ab-4c9d-a17d-37ea75e4b069",
   "metadata": {},
   "outputs": [
    {
     "name": "stdout",
     "output_type": "stream",
     "text": [
      "(66798436, 12)\n"
     ]
    },
    {
     "data": {
      "text/html": [
       "<div>\n",
       "<style scoped>\n",
       "    .dataframe tbody tr th:only-of-type {\n",
       "        vertical-align: middle;\n",
       "    }\n",
       "\n",
       "    .dataframe tbody tr th {\n",
       "        vertical-align: top;\n",
       "    }\n",
       "\n",
       "    .dataframe thead th {\n",
       "        text-align: right;\n",
       "    }\n",
       "</style>\n",
       "<table border=\"1\" class=\"dataframe\">\n",
       "  <thead>\n",
       "    <tr style=\"text-align: right;\">\n",
       "      <th></th>\n",
       "      <th>loan_sequence_number</th>\n",
       "      <th>monthly_reporting_period</th>\n",
       "      <th>current_actual_upb</th>\n",
       "      <th>current_loan_delinquency_status</th>\n",
       "      <th>loan_age</th>\n",
       "      <th>remaining_months_to_legal_maturity</th>\n",
       "      <th>zero_balance_effective_date</th>\n",
       "      <th>net_sales_proceeds</th>\n",
       "      <th>actual_loss_calculation</th>\n",
       "      <th>estimated_loan_to_value</th>\n",
       "      <th>zero_balance_removal_upb</th>\n",
       "      <th>delinquency_due_to_disaster</th>\n",
       "    </tr>\n",
       "  </thead>\n",
       "  <tbody>\n",
       "    <tr>\n",
       "      <th>0</th>\n",
       "      <td>F14Q10000001</td>\n",
       "      <td>201404</td>\n",
       "      <td>324,000.00</td>\n",
       "      <td>0</td>\n",
       "      <td>0</td>\n",
       "      <td>180</td>\n",
       "      <td>NaN</td>\n",
       "      <td>NaN</td>\n",
       "      <td>NaN</td>\n",
       "      <td>NaN</td>\n",
       "      <td>NaN</td>\n",
       "      <td>NaN</td>\n",
       "    </tr>\n",
       "    <tr>\n",
       "      <th>1</th>\n",
       "      <td>F14Q10000001</td>\n",
       "      <td>201405</td>\n",
       "      <td>322,000.00</td>\n",
       "      <td>0</td>\n",
       "      <td>1</td>\n",
       "      <td>179</td>\n",
       "      <td>NaN</td>\n",
       "      <td>NaN</td>\n",
       "      <td>NaN</td>\n",
       "      <td>NaN</td>\n",
       "      <td>NaN</td>\n",
       "      <td>NaN</td>\n",
       "    </tr>\n",
       "    <tr>\n",
       "      <th>2</th>\n",
       "      <td>F14Q10000001</td>\n",
       "      <td>201406</td>\n",
       "      <td>321,000.00</td>\n",
       "      <td>0</td>\n",
       "      <td>2</td>\n",
       "      <td>178</td>\n",
       "      <td>NaN</td>\n",
       "      <td>NaN</td>\n",
       "      <td>NaN</td>\n",
       "      <td>NaN</td>\n",
       "      <td>NaN</td>\n",
       "      <td>NaN</td>\n",
       "    </tr>\n",
       "    <tr>\n",
       "      <th>3</th>\n",
       "      <td>F14Q10000001</td>\n",
       "      <td>201407</td>\n",
       "      <td>320,000.00</td>\n",
       "      <td>0</td>\n",
       "      <td>3</td>\n",
       "      <td>177</td>\n",
       "      <td>NaN</td>\n",
       "      <td>NaN</td>\n",
       "      <td>NaN</td>\n",
       "      <td>NaN</td>\n",
       "      <td>NaN</td>\n",
       "      <td>NaN</td>\n",
       "    </tr>\n",
       "    <tr>\n",
       "      <th>4</th>\n",
       "      <td>F14Q10000001</td>\n",
       "      <td>201408</td>\n",
       "      <td>320,000.00</td>\n",
       "      <td>0</td>\n",
       "      <td>4</td>\n",
       "      <td>176</td>\n",
       "      <td>NaN</td>\n",
       "      <td>NaN</td>\n",
       "      <td>NaN</td>\n",
       "      <td>NaN</td>\n",
       "      <td>NaN</td>\n",
       "      <td>NaN</td>\n",
       "    </tr>\n",
       "  </tbody>\n",
       "</table>\n",
       "</div>"
      ],
      "text/plain": [
       "  loan_sequence_number  monthly_reporting_period  current_actual_upb current_loan_delinquency_status  loan_age  remaining_months_to_legal_maturity  zero_balance_effective_date  net_sales_proceeds  actual_loss_calculation  estimated_loan_to_value  zero_balance_removal_upb delinquency_due_to_disaster\n",
       "0         F14Q10000001                    201404          324,000.00                               0         0                                 180                          NaN                 NaN                      NaN                      NaN                       NaN                         NaN\n",
       "1         F14Q10000001                    201405          322,000.00                               0         1                                 179                          NaN                 NaN                      NaN                      NaN                       NaN                         NaN\n",
       "2         F14Q10000001                    201406          321,000.00                               0         2                                 178                          NaN                 NaN                      NaN                      NaN                       NaN                         NaN\n",
       "3         F14Q10000001                    201407          320,000.00                               0         3                                 177                          NaN                 NaN                      NaN                      NaN                       NaN                         NaN\n",
       "4         F14Q10000001                    201408          320,000.00                               0         4                                 176                          NaN                 NaN                      NaN                      NaN                       NaN                         NaN"
      ]
     },
     "execution_count": 14,
     "metadata": {},
     "output_type": "execute_result"
    }
   ],
   "source": [
    "print(loan_performance_df.shape)\n",
    "loan_performance_df.head()"
   ]
  },
  {
   "cell_type": "code",
   "execution_count": null,
   "id": "ea6ebd98-03f8-43f9-8f35-33fb15c8a284",
   "metadata": {},
   "outputs": [],
   "source": []
  }
 ],
 "metadata": {
  "kernelspec": {
   "display_name": "Python [conda env:Credit_Risk_Modeling]",
   "language": "python",
   "name": "conda-env-Credit_Risk_Modeling-py"
  },
  "language_info": {
   "codemirror_mode": {
    "name": "ipython",
    "version": 3
   },
   "file_extension": ".py",
   "mimetype": "text/x-python",
   "name": "python",
   "nbconvert_exporter": "python",
   "pygments_lexer": "ipython3",
   "version": "3.7.15"
  }
 },
 "nbformat": 4,
 "nbformat_minor": 5
}
